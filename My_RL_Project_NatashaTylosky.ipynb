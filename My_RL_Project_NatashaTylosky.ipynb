{
 "cells": [
  {
   "cell_type": "code",
   "execution_count": 3,
   "metadata": {},
   "outputs": [],
   "source": [
    "#Imports to run Q-Learning here\n",
    "import numpy as np\n",
    "import matplotlib\n",
    "import matplotlib.pyplot as plt\n",
    "\n",
    "import sys\n",
    "sys.path.append(\"./python\") \n",
    "\n",
    "from Environment import Environment \n",
    "from Algorithms import Q_learning, SARSA_learning\n",
    "from FunctionApprox import Q_function\n",
    "from Plotting import plotQ"
   ]
  },
  {
   "cell_type": "code",
   "execution_count": 4,
   "metadata": {},
   "outputs": [
    {
     "name": "stdout",
     "output_type": "stream",
     "text": [
      "0  Starting learning running  1000  episodes plotting every  100  episodes\n",
      "100  epsilon:  0.8    Mean Reward:  -116.2\n",
      "200  epsilon:  0.6    Mean Reward:  -113.95\n",
      "300  epsilon:  0.4    Mean Reward:  -111.0\n",
      "400  epsilon:  0.2    Mean Reward:  -94.59\n",
      "500  epsilon:  0.0    Mean Reward:  -50.56\n",
      "600  epsilon:  0    Mean Reward:  -22.7\n",
      "700  epsilon:  0    Mean Reward:  -15.44\n",
      "800  epsilon:  0    Mean Reward:  -13.15\n",
      "900  epsilon:  0    Mean Reward:  -13.0\n",
      "0 [-6.82, -6.81, -6.85, -6.81]\n",
      "1 [-6.68, -6.66, -6.64, -6.65]\n",
      "2 [-6.42, -6.43, -6.43, -6.42]\n",
      "3 [-6.15, -6.15, -6.15, -6.17]\n",
      "4 [-5.84, -5.83, -5.84, -5.86]\n",
      "5 [-5.49, -5.47, -5.5, -5.51]\n",
      "6 [-5.12, -5.08, -5.08, -5.11]\n",
      "7 [-4.64, -4.65, -4.64, -4.72]\n",
      "8 [-4.19, -4.19, -4.19, -4.21]\n",
      "9 [-3.7, -3.68, -3.7, -3.75]\n",
      "10 [-3.14, -3.14, -3.16, -3.2]\n",
      "11 [-2.65, -2.64, -2.6, -2.69]\n",
      "12 [-6.97, -6.97, -6.96, -6.98]\n",
      "13 [-6.75, -6.73, -6.75, -6.77]\n",
      "14 [-6.47, -6.45, -6.47, -6.51]\n",
      "15 [-6.17, -6.14, -6.17, -6.16]\n",
      "16 [-5.8, -5.79, -5.81, -5.81]\n",
      "17 [-5.43, -5.4, -5.41, -5.45]\n",
      "18 [-4.99, -4.96, -4.97, -4.99]\n",
      "19 [-4.52, -4.48, -4.47, -4.52]\n",
      "20 [-3.97, -3.94, -3.96, -3.96]\n",
      "21 [-3.38, -3.34, -3.35, -3.44]\n",
      "22 [-2.67, -2.67, -2.67, -2.75]\n",
      "23 [-1.92, -2.07, -1.9, -1.98]\n",
      "24 [-7.18, -7.18, -7.23, -7.19]\n",
      "25 [-6.86, -6.86, -98.36, -6.87]\n",
      "26 [-6.53, -6.51, -99.29, -6.56]\n",
      "27 [-6.16, -6.13, -97.75, -6.16]\n",
      "28 [-5.73, -5.7, -92.02, -5.71]\n",
      "29 [-5.22, -5.22, -87.84, -5.28]\n",
      "30 [-4.7, -4.69, -87.84, -4.76]\n",
      "31 [-4.12, -4.1, -84.99, -4.18]\n",
      "32 [-3.44, -3.44, -56.95, -3.59]\n",
      "33 [-2.79, -2.71, -56.95, -2.97]\n",
      "34 [-2.02, -1.9, -83.32, -2.23]\n",
      "35 [-1.55, -1.38, -1.0, -1.58]\n",
      "36 [-7.46, -100.0, -7.46, -7.48]\n",
      "37 [0, 0, 0, 0]\n",
      "38 [0, 0, 0, 0]\n",
      "39 [0, 0, 0, 0]\n",
      "40 [0, 0, 0, 0]\n",
      "41 [0, 0, 0, 0]\n",
      "42 [0, 0, 0, 0]\n",
      "43 [0, 0, 0, 0]\n",
      "44 [0, 0, 0, 0]\n",
      "45 [0, 0, 0, 0]\n",
      "46 [0, 0, 0, 0]\n",
      "47 [0, 0, 0, 0]\n"
     ]
    }
   ],
   "source": [
    "#Import cliff walking game here\n",
    "env = Environment (\"CliffWalking\") \n",
    "\n",
    "#In this block of code bellow we are running Q-learning\n",
    "\n",
    "#Thus is the values of params that we are storing: learning_rate, discount_factor, num_episodes, num_episodes_end  = params\n",
    "#Here we are storing the specfic values of the params, learning_rate = 0.1, and so on.\n",
    "#500 is used to run epsilon, but epsilon is a number between 0 and 1. \n",
    "params = [0.1, 0.9, 1000, 500]\n",
    "\n",
    "#Here we are defining Q using the Q function, not important to understand.\n",
    "Q = Q_function(env)\n",
    "\n",
    "#Q get is where we define Q, we just have to do this so Q set can run using the discount factor. \n",
    "Q.get(0)\n",
    "\n",
    "#Q set is an update of the dictionary by adding the discounted factor.\n",
    "Q.set(0,0,5)\n",
    "\n",
    "#Here we are actually running the Q learning, which takes the params, the environment and the \"Q table\".\n",
    "#The Q table is comprised of a(action) and s(state)\n",
    "Q_learning(env,params,Q)\n",
    "Q.printQ()"
   ]
  },
  {
   "cell_type": "code",
   "execution_count": null,
   "metadata": {},
   "outputs": [],
   "source": []
  },
  {
   "cell_type": "code",
   "execution_count": 5,
   "metadata": {},
   "outputs": [
    {
     "data": {
      "text/plain": [
       "[<matplotlib.lines.Line2D at 0x240e4801ef0>]"
      ]
     },
     "execution_count": 5,
     "metadata": {},
     "output_type": "execute_result"
    },
    {
     "data": {
      "image/png": "[encoded data removed]",
      "text/plain": [
       "<Figure size 432x288 with 1 Axes>"
      ]
     },
     "metadata": {
      "needs_background": "light"
     },
     "output_type": "display_data"
    }
   ],
   "source": [
    "plt.plot(env.history[\"episode_rew\"])"
   ]
  },
  {
   "cell_type": "code",
   "execution_count": null,
   "metadata": {},
   "outputs": [],
   "source": []
  }
 ],
 "metadata": {
  "kernelspec": {
   "display_name": "Python 3",
   "language": "python",
   "name": "python3"
  },
  "language_info": {
   "codemirror_mode": {
    "name": "ipython",
    "version": 3
   },
   "file_extension": ".py",
   "mimetype": "text/x-python",
   "name": "python",
   "nbconvert_exporter": "python",
   "pygments_lexer": "ipython3",
   "version": "3.7.0"
  }
 },
 "nbformat": 4,
 "nbformat_minor": 2
}
